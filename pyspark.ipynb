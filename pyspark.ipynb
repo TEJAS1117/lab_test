{
  "nbformat": 4,
  "nbformat_minor": 0,
  "metadata": {
    "colab": {
      "provenance": []
    },
    "kernelspec": {
      "name": "python3",
      "display_name": "Python 3"
    },
    "language_info": {
      "name": "python"
    }
  },
  "cells": [
    {
      "cell_type": "code",
      "execution_count": 1,
      "metadata": {
        "colab": {
          "base_uri": "https://localhost:8080/",
          "height": 0
        },
        "id": "Jr0TfnVb8Zil",
        "outputId": "cde1a981-1824-46ed-ec1a-3962d2fe6ec5"
      },
      "outputs": [
        {
          "output_type": "stream",
          "name": "stdout",
          "text": [
            "Requirement already satisfied: pyspark in /usr/local/lib/python3.10/dist-packages (3.5.3)\n",
            "Requirement already satisfied: py4j==0.10.9.7 in /usr/local/lib/python3.10/dist-packages (from pyspark) (0.10.9.7)\n",
            "openjdk-8-jdk-headless is already the newest version (8u422-b05-1~22.04).\n",
            "0 upgraded, 0 newly installed, 0 to remove and 49 not upgraded.\n"
          ]
        }
      ],
      "source": [
        "!pip install pyspark\n",
        "!pip install -U -q PyDrive\n",
        "!apt install openjdk-8-jdk-headless -qq\n",
        "import os\n",
        "os.environ[\"JAVA_HOME\"] = \"/usr/lib/jvm/java-8-openjdk-amd64\""
      ]
    },
    {
      "cell_type": "code",
      "source": [
        "from pyspark.sql import SparkSession\n",
        "from pyspark import SparkContext, SparkConf"
      ],
      "metadata": {
        "id": "KWxNU0gR_Eiy"
      },
      "execution_count": 2,
      "outputs": []
    },
    {
      "cell_type": "code",
      "source": [
        "# create the session\n",
        "conf = SparkConf().set(\"spark.ui.port\", \"4050\")\n",
        "\n",
        "# create the context\n",
        "import pyspark\n",
        "sc = pyspark.SparkContext(conf=conf)\n",
        "spark = SparkSession.builder.getOrCreate()"
      ],
      "metadata": {
        "id": "aVjN_Qnl_Vcp"
      },
      "execution_count": 3,
      "outputs": []
    },
    {
      "cell_type": "code",
      "source": [
        "!pyspark --version"
      ],
      "metadata": {
        "colab": {
          "base_uri": "https://localhost:8080/",
          "height": 0
        },
        "id": "B6wJiZRo_ulF",
        "outputId": "68446a5a-fc8a-4170-a0af-3f15d21678e4"
      },
      "execution_count": 4,
      "outputs": [
        {
          "output_type": "stream",
          "name": "stdout",
          "text": [
            "Welcome to\n",
            "      ____              __\n",
            "     / __/__  ___ _____/ /__\n",
            "    _\\ \\/ _ \\/ _ `/ __/  '_/\n",
            "   /___/ .__/\\_,_/_/ /_/\\_\\   version 3.5.3\n",
            "      /_/\n",
            "                        \n",
            "Using Scala version 2.12.18, OpenJDK 64-Bit Server VM, 1.8.0_422\n",
            "Branch HEAD\n",
            "Compiled by user haejoon.lee on 2024-09-09T05:20:05Z\n",
            "Revision 32232e9ed33bb16b93ad58cfde8b82e0f07c0970\n",
            "Url https://github.com/apache/spark\n",
            "Type --help for more information.\n"
          ]
        }
      ]
    },
    {
      "cell_type": "markdown",
      "source": [
        "**transaction dataset**\n",
        "\n"
      ],
      "metadata": {
        "id": "Xwl7Y-eNCVm2"
      }
    },
    {
      "cell_type": "code",
      "source": [
        "from google.colab import files\n",
        "files.upload()"
      ],
      "metadata": {
        "colab": {
          "base_uri": "https://localhost:8080/",
          "height": 628
        },
        "id": "xO3SjoJOCjQu",
        "outputId": "614aec59-4d42-47ed-e69a-508323045b75"
      },
      "execution_count": 5,
      "outputs": [
        {
          "output_type": "display_data",
          "data": {
            "text/plain": [
              "<IPython.core.display.HTML object>"
            ],
            "text/html": [
              "\n",
              "     <input type=\"file\" id=\"files-adf4348d-3cbb-4a3b-9f6a-7e7cf4504194\" name=\"files[]\" multiple disabled\n",
              "        style=\"border:none\" />\n",
              "     <output id=\"result-adf4348d-3cbb-4a3b-9f6a-7e7cf4504194\">\n",
              "      Upload widget is only available when the cell has been executed in the\n",
              "      current browser session. Please rerun this cell to enable.\n",
              "      </output>\n",
              "      <script>// Copyright 2017 Google LLC\n",
              "//\n",
              "// Licensed under the Apache License, Version 2.0 (the \"License\");\n",
              "// you may not use this file except in compliance with the License.\n",
              "// You may obtain a copy of the License at\n",
              "//\n",
              "//      http://www.apache.org/licenses/LICENSE-2.0\n",
              "//\n",
              "// Unless required by applicable law or agreed to in writing, software\n",
              "// distributed under the License is distributed on an \"AS IS\" BASIS,\n",
              "// WITHOUT WARRANTIES OR CONDITIONS OF ANY KIND, either express or implied.\n",
              "// See the License for the specific language governing permissions and\n",
              "// limitations under the License.\n",
              "\n",
              "/**\n",
              " * @fileoverview Helpers for google.colab Python module.\n",
              " */\n",
              "(function(scope) {\n",
              "function span(text, styleAttributes = {}) {\n",
              "  const element = document.createElement('span');\n",
              "  element.textContent = text;\n",
              "  for (const key of Object.keys(styleAttributes)) {\n",
              "    element.style[key] = styleAttributes[key];\n",
              "  }\n",
              "  return element;\n",
              "}\n",
              "\n",
              "// Max number of bytes which will be uploaded at a time.\n",
              "const MAX_PAYLOAD_SIZE = 100 * 1024;\n",
              "\n",
              "function _uploadFiles(inputId, outputId) {\n",
              "  const steps = uploadFilesStep(inputId, outputId);\n",
              "  const outputElement = document.getElementById(outputId);\n",
              "  // Cache steps on the outputElement to make it available for the next call\n",
              "  // to uploadFilesContinue from Python.\n",
              "  outputElement.steps = steps;\n",
              "\n",
              "  return _uploadFilesContinue(outputId);\n",
              "}\n",
              "\n",
              "// This is roughly an async generator (not supported in the browser yet),\n",
              "// where there are multiple asynchronous steps and the Python side is going\n",
              "// to poll for completion of each step.\n",
              "// This uses a Promise to block the python side on completion of each step,\n",
              "// then passes the result of the previous step as the input to the next step.\n",
              "function _uploadFilesContinue(outputId) {\n",
              "  const outputElement = document.getElementById(outputId);\n",
              "  const steps = outputElement.steps;\n",
              "\n",
              "  const next = steps.next(outputElement.lastPromiseValue);\n",
              "  return Promise.resolve(next.value.promise).then((value) => {\n",
              "    // Cache the last promise value to make it available to the next\n",
              "    // step of the generator.\n",
              "    outputElement.lastPromiseValue = value;\n",
              "    return next.value.response;\n",
              "  });\n",
              "}\n",
              "\n",
              "/**\n",
              " * Generator function which is called between each async step of the upload\n",
              " * process.\n",
              " * @param {string} inputId Element ID of the input file picker element.\n",
              " * @param {string} outputId Element ID of the output display.\n",
              " * @return {!Iterable<!Object>} Iterable of next steps.\n",
              " */\n",
              "function* uploadFilesStep(inputId, outputId) {\n",
              "  const inputElement = document.getElementById(inputId);\n",
              "  inputElement.disabled = false;\n",
              "\n",
              "  const outputElement = document.getElementById(outputId);\n",
              "  outputElement.innerHTML = '';\n",
              "\n",
              "  const pickedPromise = new Promise((resolve) => {\n",
              "    inputElement.addEventListener('change', (e) => {\n",
              "      resolve(e.target.files);\n",
              "    });\n",
              "  });\n",
              "\n",
              "  const cancel = document.createElement('button');\n",
              "  inputElement.parentElement.appendChild(cancel);\n",
              "  cancel.textContent = 'Cancel upload';\n",
              "  const cancelPromise = new Promise((resolve) => {\n",
              "    cancel.onclick = () => {\n",
              "      resolve(null);\n",
              "    };\n",
              "  });\n",
              "\n",
              "  // Wait for the user to pick the files.\n",
              "  const files = yield {\n",
              "    promise: Promise.race([pickedPromise, cancelPromise]),\n",
              "    response: {\n",
              "      action: 'starting',\n",
              "    }\n",
              "  };\n",
              "\n",
              "  cancel.remove();\n",
              "\n",
              "  // Disable the input element since further picks are not allowed.\n",
              "  inputElement.disabled = true;\n",
              "\n",
              "  if (!files) {\n",
              "    return {\n",
              "      response: {\n",
              "        action: 'complete',\n",
              "      }\n",
              "    };\n",
              "  }\n",
              "\n",
              "  for (const file of files) {\n",
              "    const li = document.createElement('li');\n",
              "    li.append(span(file.name, {fontWeight: 'bold'}));\n",
              "    li.append(span(\n",
              "        `(${file.type || 'n/a'}) - ${file.size} bytes, ` +\n",
              "        `last modified: ${\n",
              "            file.lastModifiedDate ? file.lastModifiedDate.toLocaleDateString() :\n",
              "                                    'n/a'} - `));\n",
              "    const percent = span('0% done');\n",
              "    li.appendChild(percent);\n",
              "\n",
              "    outputElement.appendChild(li);\n",
              "\n",
              "    const fileDataPromise = new Promise((resolve) => {\n",
              "      const reader = new FileReader();\n",
              "      reader.onload = (e) => {\n",
              "        resolve(e.target.result);\n",
              "      };\n",
              "      reader.readAsArrayBuffer(file);\n",
              "    });\n",
              "    // Wait for the data to be ready.\n",
              "    let fileData = yield {\n",
              "      promise: fileDataPromise,\n",
              "      response: {\n",
              "        action: 'continue',\n",
              "      }\n",
              "    };\n",
              "\n",
              "    // Use a chunked sending to avoid message size limits. See b/62115660.\n",
              "    let position = 0;\n",
              "    do {\n",
              "      const length = Math.min(fileData.byteLength - position, MAX_PAYLOAD_SIZE);\n",
              "      const chunk = new Uint8Array(fileData, position, length);\n",
              "      position += length;\n",
              "\n",
              "      const base64 = btoa(String.fromCharCode.apply(null, chunk));\n",
              "      yield {\n",
              "        response: {\n",
              "          action: 'append',\n",
              "          file: file.name,\n",
              "          data: base64,\n",
              "        },\n",
              "      };\n",
              "\n",
              "      let percentDone = fileData.byteLength === 0 ?\n",
              "          100 :\n",
              "          Math.round((position / fileData.byteLength) * 100);\n",
              "      percent.textContent = `${percentDone}% done`;\n",
              "\n",
              "    } while (position < fileData.byteLength);\n",
              "  }\n",
              "\n",
              "  // All done.\n",
              "  yield {\n",
              "    response: {\n",
              "      action: 'complete',\n",
              "    }\n",
              "  };\n",
              "}\n",
              "\n",
              "scope.google = scope.google || {};\n",
              "scope.google.colab = scope.google.colab || {};\n",
              "scope.google.colab._files = {\n",
              "  _uploadFiles,\n",
              "  _uploadFilesContinue,\n",
              "};\n",
              "})(self);\n",
              "</script> "
            ]
          },
          "metadata": {}
        },
        {
          "output_type": "stream",
          "name": "stdout",
          "text": [
            "Saving test.csv to test (3).csv\n"
          ]
        },
        {
          "output_type": "execute_result",
          "data": {
            "text/plain": [
              "{'test (3).csv': b'txnid,txndate,custid,amount,product,category,city,state,spendby\\r\\n0,06-26-2011,4000001,40.33,Exercise & Fitness,Cardio Machine Accessories,Clarksville,Tennessee,credit\\r\\n1,05-26-2011,4000002,198.44,Exercise & Fitness,Weightlifting Gloves,Long Beach,California,credit\\r\\n2,06-01-2011,4000002,5.58,Exercise & Fitness,Weightlifting Machine Accessories,Anaheim,California,credit\\r\\n3,06-05-2011,4000003,198.19,Gymnastics,Gymnastics Rings,Milwaukee,Wisconsin,credit\\r\\n4,12-17-2011,4000002,98.81,Team Sports,Field Hockey,Nashville  ,Tennessee,credit\\r\\n5,02-14-2011,4000004,193.63,Outdoor Recreation,Camping & Backpacking & Hiking,Chicago,Illinois,credit\\r\\n6,10-28-2011,4000005,27.89,Puzzles,Jigsaw Puzzles,Charleston,South Carolina,credit\\r\\n7,07-14-2011,4000006,96.01,Outdoor Play Equipment,Sandboxes,Columbus,Ohio,credit\\r\\n8,01-17-2011,4000006,10.44,Winter Sports,Snowmobiling,Des Moines,Iowa,credit\\r\\n9,05-17-2011,4000006,152.46,Jumping,Bungee Jumping,St. Petersburg,Florida,credit\\r\\n10,05-29-2011,4000007,180.28,Outdoor Recreation,Archery,Reno,Nevada,credit\\r\\n11,06-18-2011,4000009,121.39,Outdoor Play Equipment,Swing Sets,Columbus,Ohio,credit\\r\\n12,02-08-2011,4000009,41.52,Indoor Games,Bowling,San Francisco,California,credit\\r\\n13,03-13-2011,4000010,107.8,Team Sports,Field Hockey,Honolulu  ,Hawaii,credit\\r\\n14,02-25-2011,4000010,36.81,Gymnastics,Vaulting Horses,Los Angeles,California,credit\\r\\n15,10-20-2011,4000001,137.64,Combat Sports,Fencing,Honolulu  ,Hawaii,credit\\r\\n16,05-28-2011,4000010,35.56,Exercise & Fitness,Free Weight Bars,Columbia,South Carolina,credit\\r\\n17,10-18-2011,4000008,75.55,Water Sports,Scuba Diving & Snorkeling,Omaha,Nebraska,credit\\r\\n18,11-18-2011,4000008,88.65,Team Sports,Baseball,Salt Lake City,Utah,credit\\r\\n19,08-28-2011,4000008,51.81,Water Sports,Life Jackets,Newark,New Jersey,credit\\r\\n20,06-29-2011,4000005,41.55,Exercise & Fitness,Weightlifting Belts,New Orleans,Louisiana,credit\\r\\n21,02-14-2011,4000005,45.79,Air Sports,Parachutes,New York,New York,credit\\r\\n22,10-10-2011,4000009,19.64,Water Sports,Kitesurfing,Saint Paul,Minnesota,credit\\r\\n23,05-02-2011,4000009,99.5,Gymnastics,Gymnastics Rings,Springfield,Illinois,credit\\r\\n24,06-10-2011,4000003,151.2,Water Sports,Surfing,Plano,Texas,credit\\r\\n25,10-14-2011,4000009,144.2,Indoor Games,Darts,Phoenix,Arizona,credit\\r\\n26,10-11-2011,4000009,31.58,Combat Sports,Wrestling,Orange,California,credit\\r\\n27,09-29-2011,4000010,66.4,Games,Mahjong,Fremont,California,credit\\r\\n28,05-12-2011,4000008,79.78,Team Sports,Cricket,Lexington,Kentucky,credit\\r\\n29,06-03-2011,4000001,126.9,Outdoor Recreation,Hunting,Phoenix,Arizona,credit\\r\\n30,03-14-2011,4000001,47.05,Water Sports,Swimming,Lincoln,Nebraska,credit\\r\\n31,11-28-2011,4000008,5.03,Games,Dice & Dice Sets,Los Angeles,California,credit\\r\\n32,01-29-2011,4000008,20.13,Team Sports,Soccer,Springfield,Illinois,credit\\r\\n33,06-15-2011,4000008,154.15,Outdoor Recreation,Lawn Games,Nashville  ,Tennessee,credit\\r\\n34,05-06-2011,4000008,98.96,Team Sports,Indoor Volleyball,Atlanta,Georgia,credit\\r\\n35,04-12-2011,4000008,185.26,Games,Board Games,Centennial,Colorado,credit\\r\\n36,10-13-2011,4000007,35.66,Team Sports,Football,Saint Paul,Minnesota,credit\\r\\n37,04-19-2011,4000007,20.2,Outdoor Recreation,Shooting Games,San Diego,California,credit\\r\\n38,08-05-2011,4000007,150.6,Outdoor Recreation,Camping & Backpacking & Hiking,Hampton  ,Virginia,credit\\r\\n39,03-12-2011,4000006,174.36,Outdoor Play Equipment,Swing Sets,Pittsburgh,Pennsylvania,credit\\r\\n40,11-07-2011,4000005,165.1,Team Sports,Cheerleading,Reno,Nevada,credit\\r\\n41,04-16-2011,4000004,28.11,Indoor Games,Bowling,Westminster,Colorado,cash\\r\\n42,09-10-2011,4000004,38.52,Outdoor Recreation,Tetherball,Denton,Texas,cash\\r\\n43,04-22-2011,4000004,32.34,Water Sports,Water Polo,Las Vegas,Nevada,cash\\r\\n44,09-11-2011,4000001,135.37,Water Sports,Surfing,Seattle,Washington,credit\\r\\n45,11-27-2011,4000001,90.04,Exercise & Fitness,Abdominal Equipment,Honolulu  ,Hawaii,credit\\r\\n46,05-27-2011,4000001,52.29,Gymnastics,Vaulting Horses,Cleveland,Ohio,credit\\r\\n47,10-23-2011,4000008,100.1,Outdoor Play Equipment,Swing Sets,Everett,Washington,credit\\r\\n48,09-27-2011,4000007,157.94,Exercise & Fitness,Exercise Bands,Philadelphia,Pennsylvania,credit\\r\\n49,07-12-2011,4000010,144.59,Jumping,Jumping Stilts,Cambridge,Massachusetts,credit\\r\\n50,10-20-2011,4000010,55.93,Jumping,Pogo Sticks,Everett,Washington,credit\\r\\n51,02-17-2011,4000002,32.65,Water Sports,Life Jackets,Columbus,Georgia,cash\\r\\n52,02-04-2011,4000005,44.82,Outdoor Play Equipment,Lawn Water Slides,Hampton  ,Virginia,cash\\r\\n53,06-12-2011,4000004,44.46,Water Sports,Scuba Diving & Snorkeling,Charleston,South Carolina,cash\\r\\n54,10-03-2011,4000007,154.87,Outdoor Recreation,Running,Long Beach,California,credit\\r\\n55,12-16-2011,4000006,106.11,Water Sports,Swimming,New York,New York,credit\\r\\n56,06-21-2011,4000002,176.63,Outdoor Recreation,Geocaching,Boston,Massachusetts,credit\\r\\n57,12-20-2011,4000003,178.2,Outdoor Recreation,Skating,San Jose,California,credit\\r\\n58,12-29-2011,4000002,194.86,Water Sports,Windsurfing,Oklahoma City,Oklahoma,credit\\r\\n59,11-07-2011,4000001,21.43,Winter Sports,Snowboarding,Philadelphia,Pennsylvania,cash\\r\\n'}"
            ]
          },
          "metadata": {},
          "execution_count": 5
        }
      ]
    },
    {
      "cell_type": "markdown",
      "source": [],
      "metadata": {
        "id": "nmRiDxevGgJ0"
      }
    },
    {
      "cell_type": "markdown",
      "source": [
        "***Fetching CSV Data ***"
      ],
      "metadata": {
        "id": "duFg20L9C9v0"
      }
    },
    {
      "cell_type": "code",
      "source": [
        "data = spark.read.csv(\"test.csv\", header=True)\n",
        "data.show()"
      ],
      "metadata": {
        "colab": {
          "base_uri": "https://localhost:8080/",
          "height": 0
        },
        "id": "u2_0ZoaECqAI",
        "outputId": "576d6320-c168-43df-eaf7-969deb68d08e"
      },
      "execution_count": 6,
      "outputs": [
        {
          "output_type": "stream",
          "name": "stdout",
          "text": [
            "+-----+----------+-------+------+--------------------+--------------------+--------------+--------------+-------+\n",
            "|txnid|   txndate| custid|amount|             product|            category|          city|         state|spendby|\n",
            "+-----+----------+-------+------+--------------------+--------------------+--------------+--------------+-------+\n",
            "|    0|06-26-2011|4000001| 40.33|  Exercise & Fitness|Cardio Machine Ac...|   Clarksville|     Tennessee| credit|\n",
            "|    1|05-26-2011|4000002|198.44|  Exercise & Fitness|Weightlifting Gloves|    Long Beach|    California| credit|\n",
            "|    2|06-01-2011|4000002|  5.58|  Exercise & Fitness|Weightlifting Mac...|       Anaheim|    California| credit|\n",
            "|    3|06-05-2011|4000003|198.19|          Gymnastics|    Gymnastics Rings|     Milwaukee|     Wisconsin| credit|\n",
            "|    4|12-17-2011|4000002| 98.81|         Team Sports|        Field Hockey|   Nashville  |     Tennessee| credit|\n",
            "|    5|02-14-2011|4000004|193.63|  Outdoor Recreation|Camping & Backpac...|       Chicago|      Illinois| credit|\n",
            "|    6|10-28-2011|4000005| 27.89|             Puzzles|      Jigsaw Puzzles|    Charleston|South Carolina| credit|\n",
            "|    7|07-14-2011|4000006| 96.01|Outdoor Play Equi...|           Sandboxes|      Columbus|          Ohio| credit|\n",
            "|    8|01-17-2011|4000006| 10.44|       Winter Sports|        Snowmobiling|    Des Moines|          Iowa| credit|\n",
            "|    9|05-17-2011|4000006|152.46|             Jumping|      Bungee Jumping|St. Petersburg|       Florida| credit|\n",
            "|   10|05-29-2011|4000007|180.28|  Outdoor Recreation|             Archery|          Reno|        Nevada| credit|\n",
            "|   11|06-18-2011|4000009|121.39|Outdoor Play Equi...|          Swing Sets|      Columbus|          Ohio| credit|\n",
            "|   12|02-08-2011|4000009| 41.52|        Indoor Games|             Bowling| San Francisco|    California| credit|\n",
            "|   13|03-13-2011|4000010| 107.8|         Team Sports|        Field Hockey|    Honolulu  |        Hawaii| credit|\n",
            "|   14|02-25-2011|4000010| 36.81|          Gymnastics|     Vaulting Horses|   Los Angeles|    California| credit|\n",
            "|   15|10-20-2011|4000001|137.64|       Combat Sports|             Fencing|    Honolulu  |        Hawaii| credit|\n",
            "|   16|05-28-2011|4000010| 35.56|  Exercise & Fitness|    Free Weight Bars|      Columbia|South Carolina| credit|\n",
            "|   17|10-18-2011|4000008| 75.55|        Water Sports|Scuba Diving & Sn...|         Omaha|      Nebraska| credit|\n",
            "|   18|11-18-2011|4000008| 88.65|         Team Sports|            Baseball|Salt Lake City|          Utah| credit|\n",
            "|   19|08-28-2011|4000008| 51.81|        Water Sports|        Life Jackets|        Newark|    New Jersey| credit|\n",
            "+-----+----------+-------+------+--------------------+--------------------+--------------+--------------+-------+\n",
            "only showing top 20 rows\n",
            "\n"
          ]
        }
      ]
    },
    {
      "cell_type": "markdown",
      "source": [
        "**1. Find the total number of transaction for each customer id**"
      ],
      "metadata": {
        "id": "jAetUX9xGu24"
      }
    },
    {
      "cell_type": "code",
      "source": [
        "from pyspark.sql.functions import *\n",
        "data.groupBy('custid').count().show()"
      ],
      "metadata": {
        "colab": {
          "base_uri": "https://localhost:8080/",
          "height": 0
        },
        "id": "y772jd3bDYIa",
        "outputId": "c9acbac8-ebf8-418c-9ce8-7a846f09e8da"
      },
      "execution_count": 7,
      "outputs": [
        {
          "output_type": "stream",
          "name": "stdout",
          "text": [
            "+-------+-----+\n",
            "| custid|count|\n",
            "+-------+-----+\n",
            "|4000002|    6|\n",
            "|4000008|   10|\n",
            "|4000001|    8|\n",
            "|4000003|    3|\n",
            "|4000005|    5|\n",
            "|4000009|    6|\n",
            "|4000010|    6|\n",
            "|4000004|    5|\n",
            "|4000007|    6|\n",
            "|4000006|    5|\n",
            "+-------+-----+\n",
            "\n"
          ]
        }
      ]
    },
    {
      "cell_type": "markdown",
      "source": [
        "**2. Find the total amount of total transaction amount of each customer **"
      ],
      "metadata": {
        "id": "1sxJRA8bG87V"
      }
    },
    {
      "cell_type": "code",
      "source": [
        "data.withColumn('amount',col('amount').cast('float')).groupBy('custid').agg(format_number(sum('amount'), 2).alias('Total Customer Transaction Value')).show()"
      ],
      "metadata": {
        "colab": {
          "base_uri": "https://localhost:8080/",
          "height": 0
        },
        "id": "pBXS93NoEkCo",
        "outputId": "10930692-cc87-40a3-9025-508d6136fe5b"
      },
      "execution_count": 8,
      "outputs": [
        {
          "output_type": "stream",
          "name": "stdout",
          "text": [
            "+-------+--------------------------------+\n",
            "| custid|Total Customer Transaction Value|\n",
            "+-------+--------------------------------+\n",
            "|4000002|                          706.97|\n",
            "|4000008|                          859.42|\n",
            "|4000001|                          651.05|\n",
            "|4000003|                          527.59|\n",
            "|4000005|                          325.15|\n",
            "|4000009|                          457.83|\n",
            "|4000010|                          447.09|\n",
            "|4000004|                          337.06|\n",
            "|4000007|                          699.55|\n",
            "|4000006|                          539.38|\n",
            "+-------+--------------------------------+\n",
            "\n"
          ]
        }
      ]
    },
    {
      "cell_type": "markdown",
      "source": [
        "**3. Find the total number of customer who have spent by credit card**"
      ],
      "metadata": {
        "id": "c5TiT9m-HEdC"
      }
    },
    {
      "cell_type": "code",
      "source": [
        "data.filter(data.spendby == 'credit').groupBy('custid').count().show()\n",
        "print(\"Total Number of customers puchased by credit \")\n",
        "data.select('custid').filter(data.spendby == 'credit').distinct().count()"
      ],
      "metadata": {
        "colab": {
          "base_uri": "https://localhost:8080/",
          "height": 0
        },
        "id": "wd6KLpf9EvKv",
        "outputId": "d7882bfd-cc7e-4d20-eb68-12f954ad4708"
      },
      "execution_count": 11,
      "outputs": [
        {
          "output_type": "stream",
          "name": "stdout",
          "text": [
            "+-------+-----+\n",
            "| custid|count|\n",
            "+-------+-----+\n",
            "|4000002|    5|\n",
            "|4000008|   10|\n",
            "|4000001|    7|\n",
            "|4000003|    3|\n",
            "|4000005|    4|\n",
            "|4000009|    6|\n",
            "|4000010|    6|\n",
            "|4000004|    1|\n",
            "|4000007|    6|\n",
            "|4000006|    5|\n",
            "+-------+-----+\n",
            "\n",
            "Total Number of customers puchased by credit \n"
          ]
        },
        {
          "output_type": "execute_result",
          "data": {
            "text/plain": [
              "10"
            ]
          },
          "metadata": {},
          "execution_count": 11
        }
      ]
    },
    {
      "cell_type": "markdown",
      "source": [
        "**4. Find the total number of customer who have spent by cash**"
      ],
      "metadata": {
        "id": "RnIlZ1agHKBX"
      }
    },
    {
      "cell_type": "code",
      "source": [
        "data.filter(data.spendby == 'cash').groupBy('custid').count().show()\n",
        "print(\"Total Number of customers puchased by cash : \")\n",
        "data.select('custid').filter(data.spendby == 'cash').distinct().count()"
      ],
      "metadata": {
        "colab": {
          "base_uri": "https://localhost:8080/",
          "height": 0
        },
        "id": "vj6HgxJuFDe0",
        "outputId": "bebfa052-e8d6-4947-ffdf-1fd6d5adcf76"
      },
      "execution_count": 12,
      "outputs": [
        {
          "output_type": "stream",
          "name": "stdout",
          "text": [
            "+-------+-----+\n",
            "| custid|count|\n",
            "+-------+-----+\n",
            "|4000002|    1|\n",
            "|4000001|    1|\n",
            "|4000005|    1|\n",
            "|4000004|    4|\n",
            "+-------+-----+\n",
            "\n",
            "Total Number of customers puchased by cash : \n"
          ]
        },
        {
          "output_type": "execute_result",
          "data": {
            "text/plain": [
              "4"
            ]
          },
          "metadata": {},
          "execution_count": 12
        }
      ]
    },
    {
      "cell_type": "code",
      "source": [],
      "metadata": {
        "id": "C0u6JjB5Gpoz"
      },
      "execution_count": null,
      "outputs": []
    }
  ]
}